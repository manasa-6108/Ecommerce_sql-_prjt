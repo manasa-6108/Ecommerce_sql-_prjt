{
 "cells": [
  {
   "cell_type": "markdown",
   "id": "3e7cc89f-eb2a-4f76-9e03-5870af13a6f5",
   "metadata": {},
   "source": [
    "# Basic python Datastructure project"
   ]
  },
  {
   "cell_type": "markdown",
   "id": "3671f770-0b88-4dc1-8c12-fcba2031d2e0",
   "metadata": {},
   "source": [
    "### String"
   ]
  },
  {
   "cell_type": "code",
   "execution_count": null,
   "id": "4797436d-1de7-4ed2-8a07-eb783270f60c",
   "metadata": {},
   "outputs": [],
   "source": [
    "#Q1 Give examples for concatenation two string?\n",
    "i =\"apple\"\n",
    "j=\"orange\"\n",
    "print(i+j)"
   ]
  },
  {
   "cell_type": "code",
   "execution_count": null,
   "id": "d50f2049-ca75-429b-bfe0-7bae05dc95c5",
   "metadata": {},
   "outputs": [],
   "source": [
    "#Q2 Find the length of the string?\n",
    "F= \"Edubrdige.com\"\n",
    "print(len(F))\n"
   ]
  },
  {
   "cell_type": "code",
   "execution_count": 18,
   "id": "68a1f90f-b2f4-493f-b44b-b6d24b5b1568",
   "metadata": {},
   "outputs": [
    {
     "name": "stdout",
     "output_type": "stream",
     "text": [
      "['T20', 'World', 'Cup', '2024']\n"
     ]
    }
   ],
   "source": [
    "#Q3 Reverse the string: d = \"India won T20 World Cup\"\n",
    "d =  \"T20 World Cup 2024\"\n",
    "ld = d.split()\n",
    "print(ld)"
   ]
  },
  {
   "cell_type": "code",
   "execution_count": 21,
   "id": "cc2d2c50-594a-46c3-95a4-282856976a81",
   "metadata": {},
   "outputs": [
    {
     "name": "stdout",
     "output_type": "stream",
     "text": [
      "ell\n"
     ]
    }
   ],
   "source": [
    "#Q4 use the slice function and write an code\n",
    "\n",
    "F = 'Helloworld'\n",
    "print(F[1:4])"
   ]
  },
  {
   "cell_type": "code",
   "execution_count": 15,
   "id": "caa852fc-bd1d-4b06-a011-adf333d143e8",
   "metadata": {},
   "outputs": [
    {
     "name": "stdout",
     "output_type": "stream",
     "text": [
      "['Jahanvi', 'is', 'a', 'promising', 'learner.']\n"
     ]
    },
    {
     "data": {
      "text/plain": [
       "'Data Science is good'"
      ]
     },
     "execution_count": 15,
     "metadata": {},
     "output_type": "execute_result"
    }
   ],
   "source": [
    "# Q5 split and replace the string function\n",
    "s = 'Jahanvi/is/a/promising/learner.'\n",
    "t= s.split('/')\n",
    "print(t)\n",
    "\n",
    "p = 'Data Analytics is good'\n",
    "p.replace('Analytics','Science')\n"
   ]
  },
  {
   "cell_type": "code",
   "execution_count": 32,
   "id": "d9ee8923-cb9e-4384-a556-086ba3684dad",
   "metadata": {},
   "outputs": [
    {
     "name": "stdin",
     "output_type": "stream",
     "text": [
      "Enter the name. rohit\n",
      "Enter the string t20 world cup\n",
      "Enter the strike rate 124\n",
      "Enter the runs 74\n"
     ]
    },
    {
     "name": "stdout",
     "output_type": "stream",
     "text": [
      "rohit has scored 74 runs with an strike rate of 124.0 in the t20 world cup .\n",
      "rohit has scored 74 runs with a strike rate of 124.00 in the t20 world cup\n",
      "rohit has scored 74 runs with an strike of 124.0 in the t20 world cup\n"
     ]
    }
   ],
   "source": [
    "#Q6 Use different string like percent  and f' method for string formetting\n",
    "\n",
    "a = input(\"Enter the name.\")\n",
    "b = input(\"Enter the string\")\n",
    "c = float(input(\"Enter the strike rate\"))\n",
    "d = int(input(\"Enter the runs\"))\n",
    "print(a,\"has scored\",d,\"runs with an strike rate of\",c,\"in the\",b,\".\")\n",
    "\n",
    "print(\"%s has scored %d runs with a strike rate of %.2f in the %s\"%(a,d,c,b))\n",
    "print(f'{a} has scored {d} runs with an strike of {c} in the {b}')  "
   ]
  },
  {
   "cell_type": "code",
   "execution_count": null,
   "id": "41affdd8-5690-4b77-94d4-8adb4089539f",
   "metadata": {},
   "outputs": [],
   "source": []
  },
  {
   "cell_type": "markdown",
   "id": "1512f0d5-10f4-4866-91a8-3ea18608f46a",
   "metadata": {},
   "source": [
    "### Tuples and set\n"
   ]
  },
  {
   "cell_type": "code",
   "execution_count": 48,
   "id": "a24ce45a-caf3-4ea0-a179-031bd7d67ae5",
   "metadata": {},
   "outputs": [
    {
     "name": "stdout",
     "output_type": "stream",
     "text": [
      "None\n"
     ]
    }
   ],
   "source": [
    "# Q1 Create a set of unique integers\n",
    "my_set = {1, 2, 3, 4, 5,7,8,}\n",
    "\n",
    "# Attempting to add a duplicate element will have no effect\n",
    "print(my_set.add(9))\n",
    "\n"
   ]
  },
  {
   "cell_type": "code",
   "execution_count": null,
   "id": "82c7a928-847d-4345-8855-679e5d8a725d",
   "metadata": {},
   "outputs": [],
   "source": [
    "# Q2 Find the length of the set\n",
    "length = len(my_set)\n",
    "\n",
    "# Q3 Iterate through the set\n",
    "print(\"Set elements:\")\n",
    "for item in my_set:\n",
    "    print(item)\n"
   ]
  },
  {
   "cell_type": "code",
   "execution_count": null,
   "id": "9f9f7a73-636d-4141-a3ee-334d387a9e41",
   "metadata": {},
   "outputs": [],
   "source": [
    "\n",
    "# Q4 Perform set operations (union, intersection, difference)\n",
    "set1 = {1, 2, 3}\n",
    "set2 = {3, 4, 5}\n",
    "union_set = set1 | set2\n",
    "intersection_set = set1 & set2\n",
    "difference_set = set1 - set2"
   ]
  },
  {
   "cell_type": "code",
   "execution_count": 52,
   "id": "fa3fdc0d-4ac9-4c33-b08a-3c7db482d8e0",
   "metadata": {},
   "outputs": [
    {
     "name": "stdout",
     "output_type": "stream",
     "text": [
      "The first element is: (3.14,)\n",
      "The second element is: True\n"
     ]
    }
   ],
   "source": [
    "#Q5 # Create a tuple of mixed data types\n",
    "m_tuple = (1, \"apple\", 3.14, True)\n",
    "\n",
    "#Fild length of tuple\n",
    "\n",
    "len(m_tuple)\n",
    "\n",
    "# Access elements of the tuple using indexing\n",
    "print(\"The first element is:\", m_tuple[2:3])\n",
    "print(\"The second element is:\", m_tuple[-1])"
   ]
  },
  {
   "cell_type": "markdown",
   "id": "074f5fa5-c002-4c16-8fa3-a98fda4c6eff",
   "metadata": {},
   "source": [
    "### Dictionary"
   ]
  },
  {
   "cell_type": "code",
   "execution_count": 1,
   "id": "3ef85f2a-5a2c-411c-b8e4-323f973c2580",
   "metadata": {},
   "outputs": [
    {
     "name": "stdout",
     "output_type": "stream",
     "text": [
      "[('rajnish', '9'), ('ravi', '10'), ('sanjeev', '15'), ('suraj', '32'), ('yash', '2')]\n"
     ]
    }
   ],
   "source": [
    "#Q1 Creates a sorted dictionary (sorted by key)\n",
    "dict = {'ravi': '10', 'rajnish': '9',\n",
    "        'sanjeev': '15', 'yash': '2', 'suraj': '32'}\n",
    "dict1 = sorted(dict.items())\n",
    "print(dict1)"
   ]
  },
  {
   "cell_type": "code",
   "execution_count": 2,
   "id": "3f70fc3e-1c70-427a-9787-7bf093665789",
   "metadata": {},
   "outputs": [
    {
     "name": "stdout",
     "output_type": "stream",
     "text": [
      "dict_values(['Deepak', 'Bangalore', 34, 'Male', 'playing cricket', 'freelancer'])\n",
      "dict_keys(['name', 'city', 'age', 'gender', 'hobbies', 'occupation'])\n"
     ]
    }
   ],
   "source": [
    "#Q2 find the keys and value \n",
    "#info = {'name': 'Deepak','city': 'Bangalore','age': 34,'gender': 'Male','hobbies':'playing cricket','occupation':'freelancer'}\n",
    "info = {'name': 'Deepak','city': 'Bangalore','age': 34,'gender': 'Male','hobbies':'playing cricket','occupation':'freelancer'}\n",
    "\n",
    "print(info.values())\n",
    "print(info.keys())\n",
    "        "
   ]
  },
  {
   "cell_type": "code",
   "execution_count": 9,
   "id": "fdc63e8f-9aca-455b-a48f-9424940f1394",
   "metadata": {},
   "outputs": [
    {
     "data": {
      "text/plain": [
       "('7', 'yyk')"
      ]
     },
     "execution_count": 9,
     "metadata": {},
     "output_type": "execute_result"
    }
   ],
   "source": [
    "#Q3 To remove the item  from dictionary\n",
    "dict1 = {'1':'abs','2':'psl','3':'wqs','4':'ijl','5':'qwe','6':'rsk','7':'yyk'}\n",
    "\n",
    "dict1.popitem()\n"
   ]
  },
  {
   "cell_type": "code",
   "execution_count": 10,
   "id": "460f3b4d-e149-4197-946e-91d756077291",
   "metadata": {},
   "outputs": [
    {
     "name": "stdout",
     "output_type": "stream",
     "text": [
      "[{'name': 'Bob', 'age': 30}]\n"
     ]
    }
   ],
   "source": [
    "#Q4  use to filter the dictionary according to the age  where the ‘age’ key is greater than 25\n",
    "\n",
    "data = [{'name': 'Alice', 'age': 25}, {'name': 'Bob', 'age': 30}, {'name': 'Charlie', 'age': 22}]\n",
    "filtered_data = [d for d in data if d['age'] > 25]\n",
    "print(filtered_data)"
   ]
  },
  {
   "cell_type": "code",
   "execution_count": 11,
   "id": "6887f955-70ee-4f49-ae68-6546d6bd67c2",
   "metadata": {},
   "outputs": [
    {
     "name": "stdout",
     "output_type": "stream",
     "text": [
      "{'athlete': 'Ronaldo', 'country': 'Portugal', 'height': 185, 'sport': 'Football', 'brand': 'Reebok', 'Marital_status': 'Married', 'age': 39, 'club_team': 'Al Nassr'}\n"
     ]
    }
   ],
   "source": [
    "#Q5 Merging two or three dictionary \n",
    "\n",
    "d1 = {'athlete':'Ronaldo','country':'Portugal','height': 185}\n",
    "d2 = {'sport':'Football','brand':'Reebok','Marital_status':'Married'}\n",
    "d3 = {'age': 39,'club_team':'Al Nassr'}\n",
    "\n",
    "d = {}\n",
    "d.update(d1)\n",
    "d.update(d2)\n",
    "d.update(d3)\n",
    "\n",
    "print(d)\n"
   ]
  },
  {
   "cell_type": "code",
   "execution_count": null,
   "id": "b5018ce3-f454-4fe3-aecf-e0d5b826a843",
   "metadata": {},
   "outputs": [],
   "source": []
  },
  {
   "cell_type": "markdown",
   "id": "c9f8f90e-affc-4251-b101-29d86bdffbc6",
   "metadata": {},
   "source": [
    "# UDF: User Defined Functions"
   ]
  },
  {
   "cell_type": "code",
   "execution_count": null,
   "id": "adc55b9c-5dac-4b24-9ea1-07499024daf8",
   "metadata": {},
   "outputs": [],
   "source": [
    "#Q1.Create a UDF which gives the name having the max no of characters.\n",
    "name1 = input(\"Enter first name\")\n",
    "name2 = input(\"Enter second name\")\n",
    "name3 = input(\"Enter third name\")\n",
    "def name_max(a,b,c):                                  #Positional arguments\n",
    "    if len(a) > len(b) and len(a)> len(c):\n",
    "        print(a , \"has\", len(a),\"no of characters.\")\n",
    "    elif len(b) > len(a) and len(b)> len(c):\n",
    "        print(b , \"has\", len(b),\"no of characters.\")\n",
    "    else:\n",
    "        print(c , \"has\", len(c),\"no of characters.\")\n",
    "        \n",
    "        \n",
    "        \n",
    "name_max(name1,name2,name3)"
   ]
  },
  {
   "cell_type": "code",
   "execution_count": 13,
   "id": "64030751-5f3c-4065-95f1-990703938e6a",
   "metadata": {},
   "outputs": [
    {
     "data": {
      "text/plain": [
       "20"
      ]
     },
     "execution_count": 13,
     "metadata": {},
     "output_type": "execute_result"
    }
   ],
   "source": [
    "#Q2 Create a UDF which gives the median of any five random values?\n",
    "data = [20,9,35,45,5]\n",
    "def med_four(l):             #taking a list as a parameter\n",
    "    s = sorted(l)\n",
    "    pos = len(s)//2          #pos = 2\n",
    "    return s[pos]            #indexing\n",
    "\n",
    "\n",
    "\n",
    "med_four(data)           #fucntion calling"
   ]
  },
  {
   "cell_type": "code",
   "execution_count": null,
   "id": "7f1abc56-a9a8-4ea5-a738-ddcb62fba9a2",
   "metadata": {},
   "outputs": [],
   "source": [
    "#Q3.Create a UDF which gives only the names starting with 'A' as an output. You can take names in a list or as an input.\n",
    "\n",
    "names = ['Abhishek','Aaakash','Zahid','Ritu']    #iterable\n",
    "A_names = []\n",
    "def A_name(l):\n",
    "    for i in names:\n",
    "        if i.startswith('A'):\n",
    "            A_names.append(i)\n",
    "    return A_names\n",
    "        \n",
    "        \n",
    "        \n",
    "A_name(names)"
   ]
  },
  {
   "cell_type": "code",
   "execution_count": 17,
   "id": "a54ded60-3f64-4b85-8301-c95b0746ca27",
   "metadata": {},
   "outputs": [
    {
     "name": "stdout",
     "output_type": "stream",
     "text": [
      "Median: 12.5\n",
      "Mean: 10.17\n"
     ]
    }
   ],
   "source": [
    "#Q4. #Create a UDF which gives the mean and median of any random 6 values. \n",
    "\n",
    "data = [10,5,17,11,14,4,]\n",
    "def desc_six(l):                 #flexible range\n",
    "    mean = round(sum(l)/len(l),2)\n",
    "    s = sorted(l)\n",
    "    if len(s) %2 ==0:\n",
    "        pos1 = len(s)//2\n",
    "        pos2 = (len(s)//2) + 1\n",
    "        median = (s[pos1] + s[pos2])/2\n",
    "        print(\"Median:\",median)\n",
    "        print(\"Mean:\",mean)\n",
    "    else:\n",
    "        pos = len(s)//2          \n",
    "        print(\"Median:\",s[pos])\n",
    "        print(\"Mean:\",mean)\n",
    "    \n",
    "    \n",
    "desc_six(data)"
   ]
  },
  {
   "cell_type": "code",
   "execution_count": 17,
   "id": "9d0bdf36-3646-4b15-9ae9-5f50c6b18e1b",
   "metadata": {},
   "outputs": [],
   "source": [
    "#Q5.Use UDF to write even number\n",
    "\n",
    "def Even_num(x):\n",
    "    if(x%2 ==0):\n",
    "        print(\"even\")\n",
    "    else:\n",
    "        print(\"odd\")\n",
    "\n",
    "\n",
    "Even_num(4)\n",
    "Even_num(3)"
   ]
  },
  {
   "cell_type": "markdown",
   "id": "1f6c2e3a-9990-4aac-9912-34c0713c935a",
   "metadata": {},
   "source": [
    "### Object oriented programming "
   ]
  },
  {
   "cell_type": "code",
   "execution_count": 43,
   "id": "2f0f39e2-d17a-4d23-bc7b-e8eb72e12fd3",
   "metadata": {},
   "outputs": [
    {
     "name": "stdout",
     "output_type": "stream",
     "text": [
      "1234\n"
     ]
    }
   ],
   "source": [
    "#Q1 write an function using encaplusation method\n",
    "class BankAccount:\n",
    "    def __init__(self, account_number):\n",
    "        self.__account_number = account_number  # Private attribute\n",
    "    \n",
    "    def validate_pin(self, pin):\n",
    "        return len(str(pin)) == 4\n",
    "\n",
    "# Creating an instance of the class\n",
    "account = BankAccount(\"1234\")\n",
    "\n",
    "\n",
    "# Accessing private attributes using name mangling\n",
    "print(account._BankAccount__account_number)  # Output: 12345\n",
    "\n",
    "\n"
   ]
  },
  {
   "cell_type": "code",
   "execution_count": null,
   "id": "f802a2a5-ba53-4ab6-b343-1baa423bee71",
   "metadata": {},
   "outputs": [],
   "source": [
    "#Q2 Create class function using  init Constructor:\n",
    "\n",
    "\n",
    "class Student:\n",
    "    def __init__(self):                               # non-parametrized constructor\n",
    "        self.name = input(\"Enter the name\")\n",
    "        self.course = input(\"Enter the course name.\")\n",
    "        self.duration = int(input(\"Enter the course duration in months.\"))\n",
    "        self.state = input(\"Enter the state name.\")\n",
    "    def show_info(self):\n",
    "        print(f'{self.name} has applied for {self.course} course, which is of {self.duration} months and the student belongs to {self.state}.')\n",
    "        \n",
    "        \n",
    "first = Student()\n",
    "first.show_info()"
   ]
  },
  {
   "cell_type": "code",
   "execution_count": 17,
   "id": "4c91e51c-ddca-4085-92e0-360743dca0eb",
   "metadata": {},
   "outputs": [
    {
     "name": "stdout",
     "output_type": "stream",
     "text": [
      "Drawing a circle\n",
      "Drawing a square\n"
     ]
    }
   ],
   "source": [
    "#Q3 Write program for polymorphism using class inheritance\n",
    "\n",
    "\n",
    "class Shape:\n",
    "    def draw(self):\n",
    "        raise NotImplementedError(\"Subclass must implement abstract method\")\n",
    "\n",
    "class Circle(Shape):\n",
    "    def draw(self):\n",
    "        return \"Drawing a circle\"\n",
    "\n",
    "class Square(Shape):\n",
    "    def draw(self):\n",
    "        return \"Drawing a square\"\n",
    "shapes = [Circle(), Square()]\n",
    "for shape in shapes:\n",
    "    print(shape.draw())"
   ]
  },
  {
   "cell_type": "code",
   "execution_count": 22,
   "id": "f678590b-2298-497a-8be6-3fd67bf8f978",
   "metadata": {},
   "outputs": [
    {
     "name": "stdout",
     "output_type": "stream",
     "text": [
      " The movie Bahubali starring the lead actor Prabhas,lead actressTamana and negative role Rana  directed by Rajamouli \n",
      "the Bookmy show rating given to the movie is 8.1 \n"
     ]
    }
   ],
   "source": [
    "#Q4 Creating class two methods on OOPS concept.\n",
    "\n",
    "class Movie:\n",
    "    Director = \"Rajamouli\"\n",
    "    Actor =\"Prabhas\"\n",
    "    Actress =\"Tamana\"\n",
    "    Movie =\"Bahubali\"\n",
    "    villan =\"Rana\"\n",
    "    bookmyshow = 8.1\n",
    "    def movie_info(self):\n",
    "        print(f' The movie {self.Movie} starring the lead actor {self.Actor},lead actress{self.Actress} and negative role {self.villan}  directed by {self.Director} ')\n",
    "    def movie_review(self):\n",
    "        print(f'the Bookmy show rating given to the movie is {self.bookmyshow} ')\n",
    "\n",
    "obj= Movie()\n",
    "obj.movie_info()\n",
    "obj.movie_review()\n",
    "        "
   ]
  },
  {
   "cell_type": "code",
   "execution_count": 16,
   "id": "5e84e5a8-6d69-4e06-8c5b-0fe9d8be8ad8",
   "metadata": {},
   "outputs": [
    {
     "name": "stdout",
     "output_type": "stream",
     "text": [
      "0\n",
      "1\n",
      "1\n",
      "2\n",
      "\n",
      "Using for in loop\n",
      "0\n",
      "1\n",
      "1\n",
      "2\n",
      "3\n"
     ]
    }
   ],
   "source": [
    "#Q5 Creating the fibonacci numbers using generator function\n",
    "\n",
    "\n",
    "# A simple generator for Fibonacci Numbers\n",
    "def fib(limit):\n",
    "    \n",
    "    # Initialize first two Fibonacci Numbers \n",
    "    a, b = 0, 1\n",
    "\n",
    "    # One by one yield next Fibonacci Number\n",
    "    while a < limit:\n",
    "        yield a\n",
    "        a, b = b, a + b\n",
    "\n",
    "# Create a generator object\n",
    "x = fib(5)\n",
    "\n",
    "# Iterating over the generator object using next\n",
    "# In Python 3, __next__()\n",
    "print(next(x)) \n",
    "print(next(x))\n",
    "print(next(x))\n",
    "print(next(x))\n",
    "\n",
    "\n",
    "# Iterating over the generator object using for\n",
    "# in loop.\n",
    "print(\"\\nUsing for in loop\")\n",
    "for i in fib(5): \n",
    "    print(i)\n",
    "    \n",
    "        "
   ]
  },
  {
   "cell_type": "markdown",
   "id": "357cc7c0-335b-4b01-8b12-20dcad15b248",
   "metadata": {},
   "source": [
    "### Looping/iteration"
   ]
  },
  {
   "cell_type": "code",
   "execution_count": 20,
   "id": "11c0bb2a-a125-4314-8a54-233e98e5a521",
   "metadata": {},
   "outputs": [
    {
     "name": "stdout",
     "output_type": "stream",
     "text": [
      "1 \n",
      "2 3 \n",
      "4 5 6 \n",
      "7 8 9 10 \n",
      "11 12 13 14 15 \n"
     ]
    }
   ],
   "source": [
    "#Q1 write program for pyramid using loop\n",
    "\n",
    "\n",
    "number =1 \n",
    "for i in range(5): \n",
    "    for j in range(i+1):\n",
    "        print(number,end=\" \")\n",
    "        number= number+1\n",
    "    print()\n"
   ]
  },
  {
   "cell_type": "code",
   "execution_count": 19,
   "id": "2e69781c-2b7b-4c31-bdd5-db73ced88612",
   "metadata": {},
   "outputs": [
    {
     "name": "stdout",
     "output_type": "stream",
     "text": [
      "1 2 3 4 5 \n",
      "6 7 8 9 \n",
      "10 11 12 \n",
      "13 14 \n",
      "15 \n"
     ]
    }
   ],
   "source": [
    "#Q2 Create the inverted pyramid using loop\n",
    "\n",
    "number = 1\n",
    "for i in range(5,0,-1):\n",
    "    for j in range(i):\n",
    "        print(number,end =\" \")\n",
    "        number = number + 1\n",
    "    print()"
   ]
  },
  {
   "cell_type": "code",
   "execution_count": 21,
   "id": "0013e086-3f39-4a30-b931-e581687ae5f6",
   "metadata": {},
   "outputs": [
    {
     "name": "stdin",
     "output_type": "stream",
     "text": [
      "Enter a number 3\n"
     ]
    },
    {
     "name": "stdout",
     "output_type": "stream",
     "text": [
      "6\n"
     ]
    }
   ],
   "source": [
    "#Q3 write an factorial using loop funtion\n",
    "\n",
    "a = int(input(\"Enter a number\"))\n",
    "r = 1                                        #for multiplication , we have to take temporary variable and initialize it 1.\n",
    "for i in range(1,(a+1)):    #range(1,6) ..1,2,3,4,5    #for sum, we have to take a temporary variable and initialize it 0.\n",
    "    r = r * i\n",
    "print(r)\n"
   ]
  },
  {
   "cell_type": "code",
   "execution_count": 22,
   "id": "79eed09f-78f4-4c58-8eb9-01a11fbc556c",
   "metadata": {},
   "outputs": [
    {
     "name": "stdout",
     "output_type": "stream",
     "text": [
      "*\n",
      "**\n",
      "***\n",
      "****\n",
      "*****\n"
     ]
    }
   ],
   "source": [
    "#Q4 Execute the angle triangle function using *\n",
    "\n",
    "for i in range(0,5):\n",
    "    for j in range(i+1):          #range(1)...0    range(2)...0,1\n",
    "        print('*',end = '')\n",
    "    print()"
   ]
  },
  {
   "cell_type": "code",
   "execution_count": 24,
   "id": "4566b8a8-a208-4837-b1fa-00e09e0bba1a",
   "metadata": {},
   "outputs": [
    {
     "name": "stdout",
     "output_type": "stream",
     "text": [
      "7 * 1 = 7\n",
      "7 * 2 = 14\n",
      "7 * 3 = 21\n",
      "7 * 4 = 28\n",
      "7 * 5 = 35\n",
      "7 * 6 = 42\n",
      "7 * 7 = 49\n",
      "7 * 8 = 56\n",
      "7 * 9 = 63\n",
      "7 * 10 = 70\n"
     ]
    }
   ],
   "source": [
    "#Q5 Print the table of 7 using while loop.\n",
    "\n",
    "a = 1\n",
    "while a <= 10:\n",
    "    print(\"7 *\",a, \"=\", 7 * a )\n",
    "    a = a + 1   "
   ]
  },
  {
   "cell_type": "code",
   "execution_count": 13,
   "id": "78bc84a0-8ac7-46aa-8589-c61d8ff42d9f",
   "metadata": {},
   "outputs": [
    {
     "name": "stdout",
     "output_type": "stream",
     "text": [
      "1060\n"
     ]
    }
   ],
   "source": [
    "#Q6 #Get the sum of all the prime numbers between 1 to 100.\n",
    "#For eg: 1 to 10: \n",
    "#                 2 + 3 + 5 + 7 = 17\n",
    "\n",
    "result = 0\n",
    "for i in range(2,101):\n",
    "    factors = 0\n",
    "    for j in range(1,i+1):\n",
    "        if i%j == 0:\n",
    "            factors = factors + 1  \n",
    "    if factors == 2:\n",
    "                result = result + i\n",
    "print(result) "
   ]
  },
  {
   "cell_type": "code",
   "execution_count": 14,
   "id": "ee10b635-e550-43d6-8501-b9e5c5f810aa",
   "metadata": {},
   "outputs": [
    {
     "name": "stdout",
     "output_type": "stream",
     "text": [
      "The sum of all the odd numbers between 1 to 21 is :  625\n"
     ]
    }
   ],
   "source": [
    "#Q7 Python program to calculate the sum of all the odd numbers withing the given range.\n",
    "s = 0 \n",
    "for num in range(1,51):\n",
    "    if num%2!=0:\n",
    "        s = s + num\n",
    "\n",
    "\n",
    "        \n",
    "print(\"The sum of all the odd numbers between 1 to 21 is : \", s)"
   ]
  },
  {
   "cell_type": "markdown",
   "id": "a0235b10-1a64-4b34-ade0-4f1b503233ee",
   "metadata": {},
   "source": [
    "### Lambda function "
   ]
  },
  {
   "cell_type": "code",
   "execution_count": 2,
   "id": "4fcbc7fc-e6a4-4934-968f-134cfbca3ca2",
   "metadata": {},
   "outputs": [
    {
     "data": {
      "text/plain": [
       "[66, 96, 60, 72, 84]"
      ]
     },
     "execution_count": 2,
     "metadata": {},
     "output_type": "execute_result"
    }
   ],
   "source": [
    "#Q1 F = [12,35,66,9,96,25,39,33,45,48,60,72,77,84,91,3,21]\n",
    "#Get those even values which are greater than 50 from the list using lambda function.\n",
    "F = [12,35,66,9,96,25,39,33,45,48,60,72,77,84,91,3,21]\n",
    "list(filter(lambda l:l%2==0 and l>50,F))"
   ]
  },
  {
   "cell_type": "code",
   "execution_count": 12,
   "id": "5185bab1-eda0-45b5-a4b0-e093f74711cc",
   "metadata": {},
   "outputs": [
    {
     "name": "stdout",
     "output_type": "stream",
     "text": [
      "['Himanshu', 'Yahswanth', 'Siddhant']\n"
     ]
    }
   ],
   "source": [
    "#Q2 names = ['Himanshu','Yahswanth','Siddhant','Gaya','Kajol','Yash'] # Display only the name whose length is greater than 5 using lambda.\n",
    "names = ['Himanshu','Yahswanth','Siddhant','Gaya','Kajol','Yash']\n",
    "Final=list(filter(lambda  i: len(i)>5,names))\n",
    "print(Final)"
   ]
  },
  {
   "cell_type": "code",
   "execution_count": 6,
   "id": "f484a41c-f95c-479b-8520-35330b34e7d3",
   "metadata": {},
   "outputs": [
    {
     "data": {
      "text/plain": [
       "[1, 16, 36, 49, 144, 121, 169]"
      ]
     },
     "execution_count": 6,
     "metadata": {},
     "output_type": "execute_result"
    }
   ],
   "source": [
    "#Q3 write an program for square function using lambda function\n",
    "\n",
    "F= [1,4,6,7,12,11,13]\n",
    "Squar_e=list(map(lambda x:x**2,F ))"
   ]
  },
  {
   "cell_type": "code",
   "execution_count": 11,
   "id": "ef8795bd-a03e-46f9-a4d6-f1506a4f53fa",
   "metadata": {},
   "outputs": [
    {
     "name": "stdout",
     "output_type": "stream",
     "text": [
      "[5, 9, 21, 33]\n"
     ]
    }
   ],
   "source": [
    "#Q4 Extract all the odd numbers from the list.\n",
    "d = [10,12,14,5,9,6,8,21,33,40]\n",
    "odd_values = list(filter(lambda i:i%2!=0,d))\n",
    "print(odd_values)"
   ]
  },
  {
   "cell_type": "code",
   "execution_count": 10,
   "id": "44278ed8-f77e-4242-9485-717148293034",
   "metadata": {},
   "outputs": [
    {
     "name": "stdout",
     "output_type": "stream",
     "text": [
      "[-1, -2, -3, -10]\n",
      "[2, 4, 5, 7]\n"
     ]
    }
   ],
   "source": [
    "#Q5 Extract the positive and negative numbers in a given list\n",
    "s =[-1,-2,2,-3,4,5,7,-10]\n",
    "pos_tive=list(filter(lambda i:i>0,s))\n",
    "neg_tive=list(filter(lambda i:i<0,s))\n",
    "\n",
    "print(neg_tive)\n",
    "print(pos_tive)"
   ]
  },
  {
   "cell_type": "markdown",
   "id": "a37c735f-2dbe-4baf-96b8-b5301dcbcadb",
   "metadata": {},
   "source": [
    "### List comprehension"
   ]
  },
  {
   "cell_type": "code",
   "execution_count": 53,
   "id": "979c7949-a21d-4e03-aa2d-d7eca4046ba7",
   "metadata": {},
   "outputs": [
    {
     "name": "stdout",
     "output_type": "stream",
     "text": [
      "[1, 4, 9, 16, 25]\n"
     ]
    }
   ],
   "source": [
    "# Q1 Using List comprehension to write the squared numbers\n",
    "\n",
    "numbers = [1, 2, 3, 4, 5] \n",
    "squar_ed = [x ** 2 for x in numbers] \n",
    "print(squar_ed)"
   ]
  },
  {
   "cell_type": "code",
   "execution_count": null,
   "id": "6b5c0da5-f7be-4c75-86b3-94d35935e6a6",
   "metadata": {},
   "outputs": [],
   "source": [
    "#Q2 From the given list , get only odd numbers and add them into a new list after multiplying them with 1000.\n",
    "p_new=[(i*1000) for i in p if i%2!=0]\n",
    "p_new"
   ]
  },
  {
   "cell_type": "code",
   "execution_count": 55,
   "id": "37f60237-6701-413e-ae53-73c5d5c8ae25",
   "metadata": {},
   "outputs": [
    {
     "name": "stdout",
     "output_type": "stream",
     "text": [
      "['himanshu', 'SWAGATH', 'VIJAY', 'gaya', 'siddhant', 'pavithra', 'dhivya', 'chetan', 'BILAL', 'YASHWANTH', 'yash', 'jyothi', 'SHINY', 'KAJOL', 'jaspreet', 'SHANKAR', 'rasika', 'AKASH', 'satyajit']\n"
     ]
    }
   ],
   "source": [
    "#Q3 write the function LC for given list:\n",
    "names = ['Himanshu','Swagath','Vijay','Gaya','Siddhant','Pavithra','Dhivya','Chetan','Bilal','Yashwanth','Yash','Jyothi','Shiny','Kajol','Jaspreet','Shankar','Rasika','Akash','Satyajit']\n",
    "#if the length of name is odd,then store the names in Upper case\n",
    "#if the length of name is even, then store the names in lower case.\n",
    "\n",
    "names = ['Himanshu','Swagath','Vijay','Gaya','Siddhant','Pavithra','Dhivya','Chetan','Bilal','Yashwanth','Yash','Jyothi','Shiny','Kajol','Jaspreet','Shankar','Rasika','Akash','Satyajit']\n",
    "n = [name.upper() if len(name) %2!=0 else name.lower() for name in names]\n",
    "print(n)"
   ]
  },
  {
   "cell_type": "code",
   "execution_count": 56,
   "id": "f89615d5-4269-49b1-ab5a-c4db8b6cb059",
   "metadata": {},
   "outputs": [
    {
     "name": "stdout",
     "output_type": "stream",
     "text": [
      "[[0, 1, 2, 3, 4], [0, 1, 2, 3, 4], [0, 1, 2, 3, 4]]\n"
     ]
    }
   ],
   "source": [
    "# Q4 Nested list comprehension \n",
    "matrix = [[j for j in range(5)] for i in range(3)] \n",
    "  \n",
    "print(matrix) "
   ]
  },
  {
   "cell_type": "code",
   "execution_count": 60,
   "id": "0f28a2ec-31ee-450a-b5d5-553afccff3a5",
   "metadata": {},
   "outputs": [
    {
     "name": "stdout",
     "output_type": "stream",
     "text": [
      "[23, 46, 69, 92, 115, 138, 161, 184, 207, 230, 253, 276, 299, 322, 345, 368]\n"
     ]
    }
   ],
   "source": [
    "#Q5 Write an LC program for 23 tables\n",
    "\n",
    "numbers = [i*23 for i in range(1, 17)] \n",
    "  \n",
    "print(numbers) "
   ]
  },
  {
   "cell_type": "code",
   "execution_count": null,
   "id": "6af31998-40d3-4c37-a281-6b60ff4f40a6",
   "metadata": {},
   "outputs": [],
   "source": []
  },
  {
   "cell_type": "code",
   "execution_count": null,
   "id": "25170845-d714-44b8-a80a-938ae22fd110",
   "metadata": {},
   "outputs": [],
   "source": []
  },
  {
   "cell_type": "code",
   "execution_count": null,
   "id": "abdc665c-7a07-498e-992e-50aa91efb518",
   "metadata": {},
   "outputs": [],
   "source": []
  },
  {
   "cell_type": "code",
   "execution_count": null,
   "id": "843b681a-0869-42f3-823c-8794f1df9c71",
   "metadata": {},
   "outputs": [],
   "source": []
  }
 ],
 "metadata": {
  "kernelspec": {
   "display_name": "Python 3 (ipykernel)",
   "language": "python",
   "name": "python3"
  },
  "language_info": {
   "codemirror_mode": {
    "name": "ipython",
    "version": 3
   },
   "file_extension": ".py",
   "mimetype": "text/x-python",
   "name": "python",
   "nbconvert_exporter": "python",
   "pygments_lexer": "ipython3",
   "version": "3.11.7"
  }
 },
 "nbformat": 4,
 "nbformat_minor": 5
}
